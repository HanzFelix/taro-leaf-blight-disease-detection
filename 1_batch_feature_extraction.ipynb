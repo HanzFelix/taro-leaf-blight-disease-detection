{
 "cells": [
  {
   "cell_type": "markdown",
   "metadata": {},
   "source": [
    "## Batch feature extraction of images"
   ]
  },
  {
   "cell_type": "markdown",
   "metadata": {},
   "source": [
    "### Importing libraries"
   ]
  },
  {
   "cell_type": "code",
   "execution_count": 2,
   "metadata": {},
   "outputs": [],
   "source": [
    "import numpy as np\n",
    "import os\n",
    "import cv2\n",
    "import mahotas as mt\n",
    "\n",
    "np.set_printoptions(suppress=True)"
   ]
  },
  {
   "cell_type": "markdown",
   "metadata": {},
   "source": [
    "### Image files preparation"
   ]
  },
  {
   "cell_type": "code",
   "execution_count": 3,
   "metadata": {},
   "outputs": [],
   "source": [
    "healthy_folder = \"dataset/healthy2\"\n",
    "blight_folder = \"dataset/infected2\"\n",
    "healthy_images = os.listdir(healthy_folder)\n",
    "blight_images = os.listdir(blight_folder)"
   ]
  },
  {
   "cell_type": "markdown",
   "metadata": {},
   "source": [
    "### Loading images and extracting features"
   ]
  },
  {
   "cell_type": "code",
   "execution_count": 4,
   "metadata": {},
   "outputs": [],
   "source": [
    "def extract_features(rgb_img):\n",
    "    features = []\n",
    "    # prepare masked versions\n",
    "    hsv_img = cv2.cvtColor(rgb_img, cv2.COLOR_BGR2HSV)\n",
    "    ity_img = cv2.cvtColor(rgb_img, cv2.COLOR_BGR2GRAY)\n",
    "    # infected_area = np.where(mask == 1)\n",
    "\n",
    "    # mean red\n",
    "    red_img = rgb_img[:,:,2].flatten() / 255\n",
    "    features.append(np.mean(red_img))\n",
    "    \n",
    "    # mean green\n",
    "    grn_img = rgb_img[:,:,1].flatten() / 255\n",
    "    features.append(np.mean(grn_img))\n",
    "\n",
    "    # mean blue\n",
    "    blu_img = rgb_img[:,:,0].flatten() / 255\n",
    "    features.append(np.mean(blu_img))\n",
    "\n",
    "    # mean hue\n",
    "    hue_img = hsv_img[:,:,0].flatten()\n",
    "    features.append(np.mean(hue_img))\n",
    "\n",
    "    # std red\n",
    "    features.append(np.std(red_img))\n",
    "\n",
    "    # std green\n",
    "    features.append(np.std(grn_img))\n",
    "\n",
    "    # std blue\n",
    "    features.append(np.std(blu_img))\n",
    "    \n",
    "    # texture features\n",
    "    textures = mt.features.haralick(ity_img, return_mean=True)\n",
    "    features.append(textures[0])\n",
    "    features.append(textures[4])\n",
    "    features.append(textures[7])\n",
    "    features.append(textures[8])\n",
    "    features.append(textures[9])\n",
    "\n",
    "    return np.array(features)\n",
    "\n"
   ]
  },
  {
   "cell_type": "code",
   "execution_count": 5,
   "metadata": {},
   "outputs": [],
   "source": [
    "X = []\n",
    "y = []\n",
    "\n",
    "for img_path in healthy_images:\n",
    "    img = cv2.imread(os.path.join(healthy_folder, img_path))\n",
    "    img = cv2.filter2D(img,-1,(np.ones((5,5),np.float32)/25))\n",
    "    features = extract_features(img)\n",
    "    X.append(features)\n",
    "    y.append(0)  # 0 for healthy\n",
    "\n",
    "\n",
    "for img_path in blight_images:\n",
    "    img = cv2.imread(os.path.join(blight_folder, img_path))\n",
    "    img = cv2.filter2D(img,-1,(np.ones((5,5),np.float32)/25))\n",
    "    features = extract_features(img)\n",
    "    X.append(features)\n",
    "    y.append(1)  # 1 for blight\n",
    "\n",
    "X = np.array(X)\n",
    "y = np.array(y)"
   ]
  },
  {
   "cell_type": "markdown",
   "metadata": {},
   "source": [
    "### Export dataset"
   ]
  },
  {
   "cell_type": "code",
   "execution_count": 6,
   "metadata": {},
   "outputs": [],
   "source": [
    "np.savetxt('leaf_blight_dataset.csv', np.hstack((X,y[:,np.newaxis])), delimiter=\",\", fmt='%g')"
   ]
  }
 ],
 "metadata": {
  "kernelspec": {
   "display_name": "Python 3",
   "language": "python",
   "name": "python3"
  },
  "language_info": {
   "codemirror_mode": {
    "name": "ipython",
    "version": 3
   },
   "file_extension": ".py",
   "mimetype": "text/x-python",
   "name": "python",
   "nbconvert_exporter": "python",
   "pygments_lexer": "ipython3",
   "version": "3.12.1"
  },
  "orig_nbformat": 4
 },
 "nbformat": 4,
 "nbformat_minor": 2
}
